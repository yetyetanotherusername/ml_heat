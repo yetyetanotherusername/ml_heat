{
 "cells": [
  {
   "cell_type": "markdown",
   "metadata": {},
   "source": [
    "## Load data"
   ]
  },
  {
   "cell_type": "code",
   "execution_count": null,
   "metadata": {},
   "outputs": [],
   "source": [
    "import os\n",
    "import h5py\n",
    "import json\n",
    "import pandas as pd\n",
    "from tqdm import tqdm\n",
    "_\n",
    "data_path = '/home/sgrill/repos/ml_heat/ml_heat/__data_store__/rawdata.hdf5'\n",
    "\n",
    "with h5py.File(data_path, 'r') as file:\n",
    "    organisation_ids = list(file['data'].keys())\n",
    "    \n",
    "    # take only animals that we have sensor data for\n",
    "    eventlist = []\n",
    "    for organisation_id in tqdm(organisation_ids):\n",
    "        keys = list(file[f'data/{organisation_id}'].keys())\n",
    "        animal_ids = [key for key in keys if key != 'organisation']\n",
    "        for animal_id in animal_ids:\n",
    "            a_keys = list(\n",
    "                file[f'data/{organisation_id}/{animal_id}'].keys())\n",
    "            if len(a_keys) < 2:\n",
    "                continue\n",
    "            animal = json.loads(file[f'data/{organisation_id}/{animal_id}/animal'][()])\n",
    "            cycles = animal.get('lifecycle', {}).get('cycles', [])\n",
    "            for cycle in cycles:\n",
    "                events = cycle.get('events', [])\n",
    "                for event in events:\n",
    "                    eventlist.append(event)\n",
    "\n",
    "frame = pd.DataFrame(eventlist)\n",
    "frame"
   ]
  },
  {
   "cell_type": "code",
   "execution_count": null,
   "metadata": {},
   "outputs": [],
   "source": [
    "frame[frame.event_type.isin(['insemination', 'heat'])].sort_values(by='event_ts')"
   ]
  },
  {
   "cell_type": "code",
   "execution_count": null,
   "metadata": {},
   "outputs": [],
   "source": [
    "%matplotlib widget\n",
    "from matplotlib import pyplot as plt\n",
    "from pandas.plotting import register_matplotlib_converters\n",
    "\n",
    "register_matplotlib_converters()\n",
    "\n",
    "series = pd.to_datetime(frame.event_ts)\n",
    "\n",
    "plt.hist(series, 50)"
   ]
  }
 ],
 "metadata": {
  "kernelspec": {
   "display_name": "Python 3",
   "language": "python",
   "name": "python3"
  },
  "language_info": {
   "codemirror_mode": {
    "name": "ipython",
    "version": 3
   },
   "file_extension": ".py",
   "mimetype": "text/x-python",
   "name": "python",
   "nbconvert_exporter": "python",
   "pygments_lexer": "ipython3",
   "version": "3.6.7"
  }
 },
 "nbformat": 4,
 "nbformat_minor": 2
}
